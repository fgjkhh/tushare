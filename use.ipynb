{
 "cells": [
  {
   "cell_type": "code",
   "execution_count": null,
   "id": "dd10d94c",
   "metadata": {},
   "outputs": [],
   "source": [
    "#安装tushare扩展shell\n",
    "pip install tushare\n",
    "pip install lxml\n",
    "#版本升级\n",
    "pip install tushare --upgrade"
   ]
  },
  {
   "cell_type": "code",
   "execution_count": 1,
   "id": "9370f275",
   "metadata": {},
   "outputs": [
    {
     "name": "stdout",
     "output_type": "stream",
     "text": [
      "1.2.84\n"
     ]
    }
   ],
   "source": [
    "import tushare\n",
    "\n",
    "print(tushare.__version__)"
   ]
  },
  {
   "cell_type": "code",
   "execution_count": null,
   "id": "d65f3a6e",
   "metadata": {},
   "outputs": [],
   "source": [
    "免费注册用户https://waditu.com获取token，注册好后在我的主页里有一个接口TOKEN\n",
    "import tushare as ts\n",
    "ts.set_token('换成自己的token')\n",
    "pro = ts.pro_api()\n",
    "data = pro.stock_basic(exchange='', list_status='L', fields='ts_code,symbol,name,area,industry,list_date')"
   ]
  },
  {
   "cell_type": "code",
   "execution_count": null,
   "id": "ecc2c9be",
   "metadata": {},
   "outputs": [],
   "source": [
    "#获取个股的日线行情数据，就会返回代码为‘000001’的股票在20200608到20200610之间的数据，后面的sz是深圳的缩写，必需要加上。还有一些股票后面是sh，就是上海。\n",
    "df = pro.daily(ts_code='000001.SZ', start_date='20200608', end_date='20200610')"
   ]
  },
  {
   "cell_type": "code",
   "execution_count": null,
   "id": "080ad8fd",
   "metadata": {},
   "outputs": [],
   "source": [
    "#pandas的数据形式把中间部分给省略了，查看df的全部数据用一个命令展开数据\n",
    "df.unstack()"
   ]
  },
  {
   "cell_type": "code",
   "execution_count": null,
   "id": "3f9466dc",
   "metadata": {},
   "outputs": [],
   "source": [
    "df['open']\n",
    "df['open'][0]\n",
    "df.iloc[0]\n",
    "df.iloc[0]['open']\n",
    "df.iloc[0]['close']"
   ]
  },
  {
   "cell_type": "code",
   "execution_count": null,
   "id": "85c61f91",
   "metadata": {},
   "outputs": [],
   "source": [
    "#抓取所有股票一段时间内股东人数变化并将变化量并进行排序的代码\n",
    "from pandas import DataFrame\n",
    "import tushare as ts\n",
    "import time\n",
    "ts.set_token('换成自己的token')\n",
    "pro = ts.pro_api()\n",
    "stock_info = pro.stock_basic()#获取所有股票的基本信息\n",
    "#print(len(stock_info))\n",
    "startdate: str = input('请输入起始时间，格式为20210304\\n')\n",
    "enddate: str = input('请输入结束时间\\n')\n",
    "code: str = input('请输入查询股票的代码，输入0则查询所有股票\\n')\n",
    "variation = {}\n",
    "if code != '0':\n",
    "  stockholder_num = pro.stk_holdernumber(ts_code=code,start_date=startdate,end_date=enddate)\n",
    "  #print(stockholder_num)\n",
    "  df=DataFrame(stockholder_num)\n",
    "  df.to_excel('stockholder_num.xlsx')\n",
    "else:\n",
    "  for i in range(0,len(stock_info)):#遍历所有股票\n",
    "    if i>0 and i % 100 == 0:\n",
    "      time.sleep(60)#由于每分钟调用限制，每调用100次等60s\n",
    "    code = stock_info.at[i,'ts_code']\n",
    "    #print(code)\n",
    "    stockholder_num = pro.stk_holdernumber(ts_code=code,start_date=startdate,end_date=enddate)\n",
    "    #print(stockholder_num)\n",
    "    try:#由于一段时间内不一定每只股票都公告了股东人数，所以有可能会报错\n",
    "      later = stockholder_num.at[0,'holder_num']\n",
    "      former = stockholder_num.at[len(stockholder_num)-1,'holder_num']\n",
    "      change = later - former\n",
    "    except:#如果没有公告股东人数则跳过这一支股票进入下一支\n",
    "      continue\n",
    "    #print(change)\n",
    "    variation[stock_info.at[i,'ts_code']] = change#将股东人数变化量存入字典\n",
    "    #print(i)\n",
    "\n",
    "  rank = sorted(variation.items(), key = lambda kv:(kv[1], kv[0]), reverse=True)#给字典排序\n",
    "  print(rank)\n",
    "  df=DataFrame(rank)\n",
    "  df.to_excel('stockholder_num.xlsx')#将数据存入Excel表中\n"
   ]
  }
 ],
 "metadata": {
  "kernelspec": {
   "display_name": "Python 3 (ipykernel)",
   "language": "python",
   "name": "python3"
  },
  "language_info": {
   "codemirror_mode": {
    "name": "ipython",
    "version": 3
   },
   "file_extension": ".py",
   "mimetype": "text/x-python",
   "name": "python",
   "nbconvert_exporter": "python",
   "pygments_lexer": "ipython3",
   "version": "3.9.7"
  }
 },
 "nbformat": 4,
 "nbformat_minor": 5
}
